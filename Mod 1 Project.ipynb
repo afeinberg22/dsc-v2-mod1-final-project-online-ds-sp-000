{
 "cells": [
  {
   "cell_type": "code",
   "execution_count": 2,
   "metadata": {},
   "outputs": [],
   "source": [
    "#Organization/Code Cleanliness \n",
    "#The notebook should be well organized, easy to follow, and code should be commented where appropriate.\n",
    "#Level Up: The notebook contains well-formatted, professional looking markdown cells explaining any substantial code. All functions have docstrings that act as professional-quality documentation\n",
    "#The notebook is written for technical audiences with a way to both understand your approach and reproduce your results. The target audience for this deliverable is other data scientists looking to validate your findings.\n",
    "#Visualizations & EDA\n",
    "#Your project contains at least 4 meaningful data visualizations, with corresponding interpretations. All visualizations are well labeled with axes labels, a title, and a legend (when appropriate)\n",
    "#You pose at least 3 meaningful questions and answer them through EDA. These questions should be well labeled and easy to identify inside the notebook.\n",
    "#Level Up: Each question is clearly answered with a visualization that makes the answer easy to understand.\n",
    "#Your notebook should contain 1 - 2 paragraphs briefly explaining your approach to this project.\n",
    "#Model Quality/Approach\n",
    "#Your model should not include any predictors with p-values greater than .05.\n",
    "#Your notebook shows an iterative approach to modeling, and details the parameters and results of the model at each iteration.\n",
    "#Level Up: Whenever necessary, you briefly explain the changes made from one iteration to the next, and why you made these choices.\n",
    "#You provide at least 1 paragraph explaining your final model.\n",
    "#You pick at least 3 coefficients from your final model and explain their impact on the price of a house in this dataset.\n",
    "#Non-Technical Presentation Must-Haves\n",
    "#Another deliverable should be a Keynote, PowerPoint or Google Slides presentation delivered as a pdf file in your fork of this repository with the file name of presentation.pdf detailing the results of your project. Your target audience is non-technical people interested in using your findings to maximize their profit when selling their home.\n",
    "\n",
    "#Your presentation should:\n",
    "\n",
    "#Contain between 5 - 10 professional-quality slides.\n",
    "#Level Up: The slides should use visualizations whenever possible, and avoid walls of text.\n",
    "#Take no more than 5 minutes to present.\n",
    "#Avoid technical jargon and explain the results in a clear, actionable way for non-technical audiences.\n",
    "#Based on the results of your models, your presentation should discuss at least two concrete features that highly influence housing prices.\n",
    "\n"
   ]
  },
  {
   "cell_type": "code",
   "execution_count": null,
   "metadata": {},
   "outputs": [],
   "source": []
  }
 ],
 "metadata": {
  "kernelspec": {
   "display_name": "Python 3",
   "language": "python",
   "name": "python3"
  },
  "language_info": {
   "codemirror_mode": {
    "name": "ipython",
    "version": 3
   },
   "file_extension": ".py",
   "mimetype": "text/x-python",
   "name": "python",
   "nbconvert_exporter": "python",
   "pygments_lexer": "ipython3",
   "version": "3.6.6"
  }
 },
 "nbformat": 4,
 "nbformat_minor": 2
}
